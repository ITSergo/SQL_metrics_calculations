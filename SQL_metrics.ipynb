{
 "cells": [
  {
   "cell_type": "code",
   "execution_count": 1,
   "metadata": {},
   "outputs": [],
   "source": [
    "import pandas as pd\n",
    "import pandahouse as ph"
   ]
  },
  {
   "cell_type": "markdown",
   "metadata": {},
   "source": [
    "Образовательные курсы состоят из различных уроков, каждый из которых состоит из нескольких маленьких заданий. \n",
    "Назовём очень усердным учеником того пользователя, который хотя бы раз за текущий месяц правильно решил 20 заданий.\n",
    "\n",
    "## Задание 1\n",
    "Необходимо написать оптимальный запрос, который даст информацию о количестве очень усердных студентов"
   ]
  },
  {
   "cell_type": "code",
   "execution_count": 2,
   "metadata": {},
   "outputs": [],
   "source": [
    "# подключение к базе default\n",
    "connection_default = {'host' : 'http://clickhouse.beslan.pro:8080',\n",
    "                      'database'  : 'default',\n",
    "                      'user' :'student', \n",
    "                      'password' : 'dpo_python_2020'\n",
    "                     }"
   ]
  },
  {
   "cell_type": "code",
   "execution_count": 3,
   "metadata": {},
   "outputs": [
    {
     "data": {
      "text/html": [
       "<div>\n",
       "<style scoped>\n",
       "    .dataframe tbody tr th:only-of-type {\n",
       "        vertical-align: middle;\n",
       "    }\n",
       "\n",
       "    .dataframe tbody tr th {\n",
       "        vertical-align: top;\n",
       "    }\n",
       "\n",
       "    .dataframe thead th {\n",
       "        text-align: right;\n",
       "    }\n",
       "</style>\n",
       "<table border=\"1\" class=\"dataframe\">\n",
       "  <thead>\n",
       "    <tr style=\"text-align: right;\">\n",
       "      <th></th>\n",
       "      <th>month_date</th>\n",
       "      <th>quantity_student</th>\n",
       "    </tr>\n",
       "  </thead>\n",
       "  <tbody>\n",
       "    <tr>\n",
       "      <th>0</th>\n",
       "      <td>2021-10-01</td>\n",
       "      <td>136</td>\n",
       "    </tr>\n",
       "  </tbody>\n",
       "</table>\n",
       "</div>"
      ],
      "text/plain": [
       "  month_date  quantity_student\n",
       "0 2021-10-01               136"
      ]
     },
     "execution_count": 3,
     "metadata": {},
     "output_type": "execute_result"
    }
   ],
   "source": [
    "q1 = '''\n",
    "SELECT month_date,\n",
    "       count(DISTINCT st_id) AS quantity_student\n",
    "FROM (\n",
    "      SELECT toStartOfMonth(timest) AS month_date,\n",
    "             st_id\n",
    "      FROM default.peas\n",
    "      WHERE correct = 1\n",
    "      GROUP BY month_date, st_id\n",
    "      HAVING count(st_id)>=20\n",
    "     )\n",
    "GROUP BY month_date\n",
    "   '''\n",
    "# отправляем запрос и записываем результат в пандасовский датафрейм\n",
    "q_test1 = ph.read_clickhouse(query=q1, connection=connection_default)\n",
    "q_test1"
   ]
  },
  {
   "cell_type": "markdown",
   "metadata": {},
   "source": [
    "## Задание 2\n",
    "Необходимо в одном запросе выгрузить следующую информацию о группах пользователей:   \n",
    "ARPU   \n",
    "ARPAU   \n",
    "CR в покупку   \n",
    "СR активного пользователя в покупку   \n",
    "CR пользователя из активности по математике (subject = ’math’) в покупку курса по математике"
   ]
  },
  {
   "cell_type": "code",
   "execution_count": 4,
   "metadata": {},
   "outputs": [
    {
     "data": {
      "text/html": [
       "<div>\n",
       "<style scoped>\n",
       "    .dataframe tbody tr th:only-of-type {\n",
       "        vertical-align: middle;\n",
       "    }\n",
       "\n",
       "    .dataframe tbody tr th {\n",
       "        vertical-align: top;\n",
       "    }\n",
       "\n",
       "    .dataframe thead th {\n",
       "        text-align: right;\n",
       "    }\n",
       "</style>\n",
       "<table border=\"1\" class=\"dataframe\">\n",
       "  <thead>\n",
       "    <tr style=\"text-align: right;\">\n",
       "      <th></th>\n",
       "      <th>test_grp</th>\n",
       "      <th>ARPU</th>\n",
       "      <th>ARPAU</th>\n",
       "      <th>CR</th>\n",
       "      <th>CR_active</th>\n",
       "      <th>CR_active_math</th>\n",
       "    </tr>\n",
       "  </thead>\n",
       "  <tbody>\n",
       "    <tr>\n",
       "      <th>0</th>\n",
       "      <td>control</td>\n",
       "      <td>4540.98</td>\n",
       "      <td>10393.70</td>\n",
       "      <td>4.92</td>\n",
       "      <td>11.02</td>\n",
       "      <td>10.20</td>\n",
       "    </tr>\n",
       "    <tr>\n",
       "      <th>1</th>\n",
       "      <td>pilot</td>\n",
       "      <td>11508.47</td>\n",
       "      <td>29739.58</td>\n",
       "      <td>10.85</td>\n",
       "      <td>26.04</td>\n",
       "      <td>14.29</td>\n",
       "    </tr>\n",
       "  </tbody>\n",
       "</table>\n",
       "</div>"
      ],
      "text/plain": [
       "  test_grp      ARPU     ARPAU     CR  CR_active  CR_active_math\n",
       "0  control   4540.98  10393.70   4.92      11.02           10.20\n",
       "1    pilot  11508.47  29739.58  10.85      26.04           14.29"
      ]
     },
     "execution_count": 4,
     "metadata": {},
     "output_type": "execute_result"
    }
   ],
   "source": [
    "q2 =  '''\n",
    "SELECT f.test_grp,\n",
    "       ROUND(sum_all_money/cnt_all, 2) ARPU,\n",
    "       ROUND(sum_active_money/cnt_active_all, 2) ARPAU,\n",
    "       ROUND(cnt_all_payed*100/cnt_all, 2) CR,\n",
    "       ROUND(cnt_all_payed_active*100/cnt_active_all, 2) CR_active,\n",
    "       ROUND(cnt_all_payed_active_math*100/cnt_active_math, 2) CR_active_math\n",
    "FROM\n",
    "    (\n",
    "    SELECT s.test_grp AS test_grp,\n",
    "           COUNT(*) cnt_all,\n",
    "           COUNT(IF(c.check=1, 1, null)) cnt_all_payed,\n",
    "           COUNT(IF(c.check=1, p.cnt_active, null)) cnt_all_payed_active,\n",
    "           COUNT(IF(c.check=1, p.cnt_active_math, null)) cnt_all_payed_active_math,\n",
    "           SUM(c.sum_money) sum_all_money,\n",
    "           SUM(IF(p.cnt_active=1,c.sum_money,0)) sum_active_money,\n",
    "           SUM(c.cnt_math_payed) cnt_math_payed,\n",
    "           SUM(c.sum_math_payed) sum_math_money,\n",
    "           SUM(p.cnt_active) cnt_active_all,\n",
    "           SUM(p.cnt_active_math) cnt_active_math\n",
    "    FROM studs s\n",
    "    LEFT JOIN --присоединяем информацию о покупках\n",
    "            (\n",
    "            SELECT c.st_id,\n",
    "                   1 check, -- поле отражает факт покупки (1 - была покупка)\n",
    "                   SUM(c.money) sum_money,\n",
    "                   MAX(IF(c.subject = 'Math', 1, 0)) cnt_math_payed,\n",
    "                   SUM(IF(c.subject = 'Math', c.money, 0)) sum_math_payed\n",
    "                  \n",
    "            FROM final_project_check c\n",
    "            GROUP BY c.st_id\n",
    "            ) c\n",
    "    ON (c.st_id = s.st_id)\n",
    "    LEFT JOIN  -- присоединяем информацию об активных пользователях\n",
    "            (\n",
    "            SELECT p.st_id,\n",
    "                   1 check, -- поле отражает факт покупки (1 - была покупка)\n",
    "                   IF(COUNT(*)>10,1,NULL) cnt_active,             \n",
    "                   \n",
    "                   IF(COUNT(IF(p.subject = 'Math', 1, NULL)) >= 2, 1, NULL) cnt_active_math\n",
    "            FROM peas p\n",
    "            WHERE p.correct = 1\n",
    "            GROUP BY p.st_id\n",
    "            ) p \n",
    "    ON (p.st_id = s.st_id)\n",
    "    GROUP BY s.test_grp\n",
    "    ) f\n",
    "'''\n",
    "q_test2 = ph.read_clickhouse(query=q2, connection=connection_default)\n",
    "q_test2"
   ]
  }
 ],
 "metadata": {
  "kernelspec": {
   "display_name": "Python 3",
   "language": "python",
   "name": "python3"
  },
  "language_info": {
   "codemirror_mode": {
    "name": "ipython",
    "version": 3
   },
   "file_extension": ".py",
   "mimetype": "text/x-python",
   "name": "python",
   "nbconvert_exporter": "python",
   "pygments_lexer": "ipython3",
   "version": "3.7.3"
  }
 },
 "nbformat": 4,
 "nbformat_minor": 4
}
